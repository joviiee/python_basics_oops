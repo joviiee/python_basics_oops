{
 "cells": [
  {
   "cell_type": "code",
   "execution_count": null,
   "metadata": {},
   "outputs": [],
   "source": [
    "print('Hello World!')"
   ]
  },
  {
   "cell_type": "code",
   "execution_count": null,
   "metadata": {},
   "outputs": [],
   "source": [
    "print('Hello\\tWorld')"
   ]
  },
  {
   "cell_type": "code",
   "execution_count": null,
   "metadata": {},
   "outputs": [],
   "source": [
    "print('Hello\\nWorld')"
   ]
  },
  {
   "cell_type": "code",
   "execution_count": 10,
   "metadata": {},
   "outputs": [],
   "source": [
    "age = 21         \n",
    "price = 19.99   \n",
    "name = \"Alice\"    \n",
    "is_student = True"
   ]
  },
  {
   "cell_type": "code",
   "execution_count": null,
   "metadata": {},
   "outputs": [],
   "source": [
    "print('age >>>>>>',type(age),'\\n')\n",
    "print('price >>>>>>',type(price),'\\n')\n",
    "print('name >>>>>>',type(name),'\\n')\n",
    "print('is_student >>>>>>',type(is_student),'\\n')"
   ]
  },
  {
   "cell_type": "code",
   "execution_count": null,
   "metadata": {},
   "outputs": [],
   "source": [
    "print(5 + 3)   #addition\n",
    "print(10 - 7)    #subtraction\n",
    "print(4 * 2)    #multiplication\n",
    "print(9 / 3)    #division\n",
    "print(2 ** 3)   #exponentiation\n",
    "print(10 % 3)   #modulus"
   ]
  },
  {
   "cell_type": "code",
   "execution_count": null,
   "metadata": {},
   "outputs": [],
   "source": [
    "# An if loop for identifying between grape orange and watermelon\n",
    "radius = int(input('Enter the radius of the fruit (cm) : '))\n",
    "\n",
    "if radius <= 2:\n",
    "    print('Grape')\n",
    "elif 2 < radius <7:\n",
    "    print('Apple')\n",
    "else:\n",
    "    print('Watermelon') "
   ]
  },
  {
   "cell_type": "code",
   "execution_count": null,
   "metadata": {},
   "outputs": [],
   "source": [
    "i = 0\n",
    "\n",
    "while i<10:\n",
    "    print(i)\n",
    "    i+=1"
   ]
  },
  {
   "cell_type": "code",
   "execution_count": null,
   "metadata": {},
   "outputs": [],
   "source": [
    "for i in range(0,10,2):\n",
    "    print(i)"
   ]
  },
  {
   "cell_type": "code",
   "execution_count": null,
   "metadata": {},
   "outputs": [],
   "source": [
    "for  i in range(10):\n",
    "    print(i)"
   ]
  },
  {
   "cell_type": "code",
   "execution_count": null,
   "metadata": {},
   "outputs": [],
   "source": [
    "# defining and calling functions\n",
    "def calculate_rectangular_area(b:float,h:float):\n",
    "    area = b*h\n",
    "    return area\n",
    "\n",
    "print(f'Area of the rectangle is {calculate_rectangular_area(9,10)}')\n",
    "print(f'Area of the rectangle is {calculate_rectangular_area(90,10)}')\n",
    "print(f'Area of the rectangle is {calculate_rectangular_area(2,3)}')\n",
    "print(f'Area of the rectangle is {calculate_rectangular_area(9,2)}')"
   ]
  },
  {
   "cell_type": "code",
   "execution_count": null,
   "metadata": {},
   "outputs": [],
   "source": [
    "import time\n",
    "\n",
    "# list\n",
    "\n",
    "list = []\n",
    "print(list)\n",
    "\n",
    "time.sleep(3)\n",
    "\n",
    "list.append('list_item_1')\n",
    "print(list)\n",
    "\n",
    "time.sleep(3)\n",
    "\n",
    "list.remove('list_item_1')\n",
    "print(list)\n"
   ]
  },
  {
   "cell_type": "code",
   "execution_count": null,
   "metadata": {},
   "outputs": [],
   "source": [
    "fruits = [\"apple\", \"banana\", \"cherry\"]\n",
    "print(fruits)\n",
    "\n",
    "print(fruits[0]) #fruits[0] replaced by 'apple'\n"
   ]
  },
  {
   "cell_type": "code",
   "execution_count": null,
   "metadata": {},
   "outputs": [],
   "source": [
    "print(len(fruits),'\\n')\n",
    "for i in range(len(fruits)):\n",
    "    print(fruits[i])"
   ]
  },
  {
   "cell_type": "code",
   "execution_count": null,
   "metadata": {},
   "outputs": [],
   "source": [
    "for fruit in fruits:\n",
    "    print(fruit)"
   ]
  },
  {
   "cell_type": "code",
   "execution_count": null,
   "metadata": {},
   "outputs": [],
   "source": [
    "student = {\n",
    "    \"name\": \"Alice\",\n",
    "    \"age\": 21,\n",
    "    \"major\": \"Computer Science\"\n",
    "}\n",
    "\n",
    "print(student[\"name\"])\n",
    "print(student[\"age\"])\n",
    "print(student[\"major\"])\n"
   ]
  }
 ],
 "metadata": {
  "kernelspec": {
   "display_name": "Python 3",
   "language": "python",
   "name": "python3"
  },
  "language_info": {
   "codemirror_mode": {
    "name": "ipython",
    "version": 3
   },
   "file_extension": ".py",
   "mimetype": "text/x-python",
   "name": "python",
   "nbconvert_exporter": "python",
   "pygments_lexer": "ipython3",
   "version": "3.13.0"
  }
 },
 "nbformat": 4,
 "nbformat_minor": 2
}
